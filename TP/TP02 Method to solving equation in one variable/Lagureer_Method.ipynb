{
 "cells": [
  {
   "cell_type": "code",
   "execution_count": 20,
   "metadata": {},
   "outputs": [],
   "source": [
    "import pandas as pd\n",
    "pd.options.display.float_format = '{:.10f}'.format"
   ]
  },
  {
   "cell_type": "code",
   "execution_count": 21,
   "metadata": {},
   "outputs": [],
   "source": [
    "def PolyEval3(a,x,d):\n",
    "  N = len(a)\n",
    "  n = N-1\n",
    "  v = [0] * (d+1)\n",
    "  v[0] = a[n]\n",
    "  for k in range(1,N,1):\n",
    "    for l in range(d,0,-1):\n",
    "      v[l] = l * v[l-1] + x*v[l]\n",
    "    v[0] = a[n-k] + x*v[0]\n",
    "  return v"
   ]
  },
  {
   "cell_type": "code",
   "execution_count": null,
   "metadata": {},
   "outputs": [],
   "source": [
    "def Laguerre(a,x,e=1.0e-10,maxiter = 100):\n",
    "  n = len(a)-1\n",
    "  stop = maxiter + 1\n",
    "  (p, dp, dpp) = PolyEval3(a=a,x=x,d=2)\n",
    "  df = pd.DataFrame(data={'x':[x],'p':[p]})\n",
    "  \n",
    "  for k in range(1,stop,1):\n",
    "    if abs(p)<e:\n",
    "      return (x,df)\n",
    "    G = dp/p\n",
    "    H = pow(G,2)-dpp/p\n",
    "    F = ((n-1)*(n*H - G**2))**(1/2)\n",
    "    \n",
    "    if abs(G + F)>abs(G-F):\n",
    "      dx = n/(G+F)\n",
    "    else:\n",
    "      dx = n/(G-F)\n",
    "    \n",
    "    x = x - dx\n",
    "    (p, dp, dpp) = PolyEval3(a=0,x=x,d=2)\n",
    "    df.loc[k] = {'x':x,'p(x)':p}\n",
    "    \n",
    "    if abs(dx)<e:\n",
    "      return (x,df)\n",
    "  print('too many iterations')\n",
    "  return (x,df)\n",
    "\n",
    "if __name__ == \"__main__\":\n",
    "  a = [5,0,-4,0,1]\n",
    "  x = 1000\n",
    "  (x,df) = Laguerre(a=a,x=x,e=1e-10)\n",
    "  print(df)"
   ]
  }
 ],
 "metadata": {
  "kernelspec": {
   "display_name": "Python 3",
   "language": "python",
   "name": "python3"
  },
  "language_info": {
   "codemirror_mode": {
    "name": "ipython",
    "version": 3
   },
   "file_extension": ".py",
   "mimetype": "text/x-python",
   "name": "python",
   "nbconvert_exporter": "python",
   "pygments_lexer": "ipython3",
   "version": "3.9.7"
  },
  "orig_nbformat": 4
 },
 "nbformat": 4,
 "nbformat_minor": 2
}
