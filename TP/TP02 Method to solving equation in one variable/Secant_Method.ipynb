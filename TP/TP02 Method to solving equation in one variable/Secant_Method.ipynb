{
 "cells": [
  {
   "attachments": {},
   "cell_type": "markdown",
   "metadata": {},
   "source": [
    "<font color = yellow><b>II.) Secant Method"
   ]
  },
  {
   "cell_type": "code",
   "execution_count": 1,
   "metadata": {},
   "outputs": [
    {
     "name": "stdout",
     "output_type": "stream",
     "text": [
      "step1, x2 = 0.7363841388365822 and f(x2) = 0.0045177185221702\n",
      "step2, x2 = 0.7390581392138897 and f(x2) = 0.0000451772159638\n",
      "step3, x2 = 0.7390851493372764 and f(x2) = -0.0000000269821671\n",
      "step4, x2 = 0.7390851332150645 and f(x2) = 0.0000000000001609\n",
      "step5, x2 = 0.7390851332151607 and f(x2) = 0.0000000000000000\n",
      "step6, x2 = 0.7390851332151607 and f(x2) = 0.0000000000000000\n",
      "divided by zero error !\n",
      "\n",
      " Required root is : 0.7390851332151607\n"
     ]
    }
   ],
   "source": [
    "import pandas as pd \n",
    "\n",
    "def Secant(f,x0,x1,e,N=100):\n",
    "      step = 1 \n",
    "      condition = True \n",
    "      df = pd.DataFrame(data={'x0':[x0], 'x1':[x1], 'f(x1)':f(x1)})\n",
    "      \n",
    "      while condition:\n",
    "          if f(x0) == f(x1):\n",
    "            print('divided by zero error !')\n",
    "            break \n",
    "        \n",
    "          x2 = x0 - (x1-x0) * f(x0)/(f(x1)-f(x0))\n",
    "          print(f'step{step}, x2 = {x2:0.16f} and f(x2) = {f(x2):0.16f}')\n",
    "          x0 = x1 \n",
    "          x1 = x2\n",
    "          \n",
    "          df.loc[step] = pd.Series(data={'x0':x0,'x1':x1,'f(x1)':f(x1)})\n",
    "          step += 1 \n",
    "          \n",
    "          if step > N:\n",
    "            print('Not convergent') \n",
    "            break \n",
    "      \n",
    "      condition = abs(f(x2)) > e \n",
    "      print(f'\\n Required root is : {x2:0.16f}')\n",
    "      return df \n",
    "      \n",
    "  \n",
    "if __name__ == '__main__':\n",
    "  from math import cos,sin,pi\n",
    "  \n",
    "  def f(x):\n",
    "    return cos(x) - x \n",
    "  \n",
    "  p0 = 0.5 \n",
    "  p1 = pi/4 \n",
    "  df = Secant(f=f,x0=p0,x1=p1,e=1.0e-16,N=20)"
   ]
  },
  {
   "cell_type": "code",
   "execution_count": 7,
   "metadata": {},
   "outputs": [
    {
     "name": "stdout",
     "output_type": "stream",
     "text": [
      "i= 2, p0=0.5000000000000000, p1=0.7853981633974483, p=0.7363841388365822, f(p)=0.0045177185221702\n",
      "i= 3, p0=0.7853981633974483, p1=0.7363841388365822, p=0.7390581392138897, f(p)=0.0000451772159638\n",
      "i= 4, p0=0.7363841388365822, p1=0.7390581392138897, p=0.7390851493372764, f(p)=-0.0000000269821671\n",
      "i= 5, p0=0.7390581392138897, p1=0.7390851493372764, p=0.7390851332150645, f(p)=0.0000000000001609\n",
      "i= 6, p0=0.7390851493372764, p1=0.7390851332150645, p=0.7390851332151607, f(p)=0.0000000000000000\n",
      "i= 7, p0=0.7390851332150645, p1=0.7390851332151607, p=0.7390851332151607, f(p)=0.0000000000000000\n"
     ]
    },
    {
     "data": {
      "text/plain": [
       "0.7390851332151607"
      ]
     },
     "execution_count": 7,
     "metadata": {},
     "output_type": "execute_result"
    }
   ],
   "source": [
    "def Secant(f,p0,p1,TOL=1e-10,N=100):\n",
    "    stop = N+1 \n",
    "    for i in range(2,stop,1):\n",
    "        q0 = f(p0)\n",
    "        q1 = f(p1)\n",
    "        p = p1-q1*(p1-p0)/(q1-q0)\n",
    "        print(f'i={i:2d}, p0={p0:.16f}, p1={p1:.16f}, p={p:.16f}, f(p)={f(p):.16f}')\n",
    "        \n",
    "        if abs(p-p1) < TOL:\n",
    "            return p \n",
    "        p0 = p1 \n",
    "        p1 = p \n",
    "    return None \n",
    "\n",
    "def f(x):\n",
    "    return cos(x)-x \n",
    "\n",
    "Secant(f=f,p0=0.5,p1=pi/4,TOL=1e-16)"
   ]
  },
  {
   "cell_type": "code",
   "execution_count": 9,
   "metadata": {},
   "outputs": [
    {
     "name": "stdout",
     "output_type": "stream",
     "text": [
      "i= 2, p0=0.0000000000000000, p1=0.5000000000000000, p=0.6065306597126334, f(p)=-0.1124120321560822\n",
      "i= 3, p0=0.5000000000000000, p1=0.6065306597126334, p=0.5649570791710687, f(p)=0.0060301826435212\n",
      "i= 4, p0=0.6065306597126334, p1=0.5649570791710687, p=0.5670736917676411, f(p)=0.0001923055945765\n",
      "i= 5, p0=0.5649570791710687, p1=0.5670736917676411, p=0.5671434151346219, f(p)=-0.0000003446425556\n",
      "i= 6, p0=0.5670736917676411, p1=0.5671434151346219, p=0.5671432904026737, f(p)=0.0000000000196470\n",
      "i= 7, p0=0.5671434151346219, p1=0.5671432904026737, p=0.5671432904097840, f(p)=-0.0000000000000002\n",
      "i= 8, p0=0.5671432904026737, p1=0.5671432904097840, p=0.5671432904097838, f(p)=0.0000000000000000\n"
     ]
    },
    {
     "data": {
      "text/plain": [
       "0.5671432904097838"
      ]
     },
     "execution_count": 9,
     "metadata": {},
     "output_type": "execute_result"
    }
   ],
   "source": [
    "from math import exp \n",
    "def f(x):\n",
    "    return 1-x*exp(x)\n",
    "\n",
    "Secant(f=f,p0=0,p1=0.5,TOL=1e-12)"
   ]
  },
  {
   "cell_type": "code",
   "execution_count": null,
   "metadata": {},
   "outputs": [],
   "source": []
  }
 ],
 "metadata": {
  "kernelspec": {
   "display_name": "Python 3",
   "language": "python",
   "name": "python3"
  },
  "language_info": {
   "codemirror_mode": {
    "name": "ipython",
    "version": 3
   },
   "file_extension": ".py",
   "mimetype": "text/x-python",
   "name": "python",
   "nbconvert_exporter": "python",
   "pygments_lexer": "ipython3",
   "version": "3.9.7"
  },
  "orig_nbformat": 4
 },
 "nbformat": 4,
 "nbformat_minor": 2
}
