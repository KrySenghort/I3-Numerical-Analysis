{
 "cells": [
  {
   "attachments": {},
   "cell_type": "markdown",
   "metadata": {},
   "source": [
    "<font size = 6><font color = blue><b>Muller Method</b></font>"
   ]
  },
  {
   "cell_type": "code",
   "execution_count": 2,
   "metadata": {},
   "outputs": [
    {
     "name": "stdout",
     "output_type": "stream",
     "text": [
      "[1, 2, 3, 4]\n",
      "x =  2\n",
      "p =  49\n",
      "dp =  141\n",
      "dpp =  554\n",
      "(p,dp,dpp) =  (49, 141, 554)\n"
     ]
    }
   ],
   "source": [
    "# To do: evaluate P(x) and p'(x) at x = 2 , where P(x) = 1 + 2x + 3x^2 + 4x^3\n",
    "# P'(x) = 2 + 6x + 12x^2\n",
    "# P''(x) = 6 + 24x\n",
    "def PolyEval1(a,x):\n",
    "  N = len(a)\n",
    "  n = N-1\n",
    "  p = a[n]\n",
    "  dp = 0\n",
    "  dpp = 0\n",
    "  for k in range(1,N,1):\n",
    "    p = a[n-k] + x*p\n",
    "    dp = p + x*dp\n",
    "    dpp = 2*dp + x*dpp\n",
    "  return (p,dp,dpp)\n",
    "\n",
    "if __name__ == \"__main__\":\n",
    "  a = [1,2,3,4]\n",
    "  x = 2\n",
    "  (p,dp,dpp) = PolyEval1(a=a,x=x)\n",
    "  print(a)\n",
    "  print('x = ',x)\n",
    "  print('p = ',p)\n",
    "  print('dp = ',dp)\n",
    "  print('dpp = ',dpp)\n",
    "  print('(p,dp,dpp) = ',(p,dp,dpp))"
   ]
  },
  {
   "cell_type": "code",
   "execution_count": 3,
   "metadata": {},
   "outputs": [
    {
     "name": "stdout",
     "output_type": "stream",
     "text": [
      "[1, 2, 3, 4]\n",
      "x =  2\n",
      "p =  49\n",
      "dp =  141\n",
      "dpp =  396\n",
      "(p,dp,dpp) =  (49, 141, 396)\n"
     ]
    }
   ],
   "source": [
    "def PolyEval2(a,x):\n",
    "  N = len(a)\n",
    "  n = N-1\n",
    "  v = [a[n],0,0]\n",
    "  for k in range(1,N,1):\n",
    "    v[0] = a[n-k]+x*v[0]\n",
    "    v[1] = v[0] + x*v[1]\n",
    "    v[2] = 2* v[1] + v[2]\n",
    "  return v\n",
    "\n",
    "if __name__ == \"__main__\":\n",
    "  a = [1,2,3,4]\n",
    "  x = 2\n",
    "  (p,dp,dpp) = PolyEval2(a=a,x=x)\n",
    "  val2 = (p,dp,dpp)\n",
    "  print(a)\n",
    "  print('x = ',x)\n",
    "  print('p = ',p)\n",
    "  print('dp = ',dp)\n",
    "  print('dpp = ',dpp)\n",
    "  print('(p,dp,dpp) = ',val2)"
   ]
  },
  {
   "attachments": {},
   "cell_type": "markdown",
   "metadata": {},
   "source": [
    "<font size = 5><font color = blue><b>Summarize two above</b></font>"
   ]
  },
  {
   "cell_type": "code",
   "execution_count": 4,
   "metadata": {},
   "outputs": [
    {
     "name": "stdout",
     "output_type": "stream",
     "text": [
      "a = [1, 2, 3, 4]\n",
      "x =  2\n",
      "[49, 62, 54, 24, 0]\n"
     ]
    }
   ],
   "source": [
    "def PolyEval3(a,x,d):\n",
    "  N = len(a)\n",
    "  n = N-1\n",
    "  v = [0] * (d+1)\n",
    "  v[0] = a[n]\n",
    "  for k in range(1,N,1):\n",
    "    for l in range(d,0,-1):\n",
    "      v[l] = l * v[l-1] + x*v[l]\n",
    "    v[0] = a[n-k] + x*v[0]\n",
    "  return v\n",
    "\n",
    "if __name__ == \"__main__\":\n",
    "  a = [1,2,3,4]\n",
    "  x = 2\n",
    "  d = 4\n",
    "  val3 = PolyEval3(a=a,x=x,d=d)\n",
    "  print('a =',a)\n",
    "  print('x = ',x)\n",
    "  print(val3)"
   ]
  },
  {
   "attachments": {},
   "cell_type": "markdown",
   "metadata": {},
   "source": [
    "<font size = 5><font color = blue><b>Summarize Muller Method</b></font>"
   ]
  },
  {
   "cell_type": "code",
   "execution_count": 6,
   "metadata": {},
   "outputs": [
    {
     "name": "stdout",
     "output_type": "stream",
     "text": [
      "i = 3.000000, p = -0.1000000000+0.8888194417j, f(p) = -0.0112000000+3.0148755464j\n",
      "i = 4.000000, p = -0.2880151881+0.2382530457j, f(p) = 0.6445573559-0.0434768946j\n",
      "i = 5.000000, p = -0.3744124231+0.3742351304j, f(p) = 0.2327137783-0.2209969944j\n",
      "i = 6.000000, p = -0.3470404269+0.4521998200j, f(p) = -0.0358246384-0.0216552418j\n",
      "i = 7.000000, p = -0.3392167459+0.4464985276j, f(p) = 0.0002952307-0.0007092150j\n",
      "i = 8.000000, p = -0.3390929916+0.4466301312j, f(p) = -0.0000003885-0.0000005423j\n",
      "i = 9.000000, p = -0.3390928378+0.4466301000j, f(p) = -0.0000000000+0.0000000000j\n",
      "i = 10.000000, p = -0.3390928378+0.4466301000j, f(p) = 0.0000000000-0.0000000000j\n",
      "\n",
      "Root = -0.34+0.45j\n",
      "p = -0.3390928378+0.4466301000j\n",
      "                     p                        f(p)\n",
      "0  -0.500000+0.000000j  1.187500e+00+0.000000e+00j\n",
      "1   0.000000+0.000000j  1.000000e+00+0.000000e+00j\n",
      "2   0.500000+0.000000j  1.437500e+00+0.000000e+00j\n",
      "3  -0.100000+0.888819j -1.120000e-02+3.014876e+00j\n",
      "4  -0.288015+0.238253j  6.445574e-01-4.347689e-02j\n",
      "5  -0.374412+0.374235j  2.327138e-01-2.209970e-01j\n",
      "6  -0.347040+0.452200j -3.582464e-02-2.165524e-02j\n",
      "7  -0.339217+0.446499j  2.952307e-04-7.092150e-04j\n",
      "8  -0.339093+0.446630j -3.884916e-07-5.423141e-07j\n",
      "9  -0.339093+0.446630j -1.203482e-12+4.889422e-13j\n",
      "10 -0.339093+0.446630j  2.220446e-16-1.665335e-16j\n"
     ]
    }
   ],
   "source": [
    "import pandas as pd\n",
    "def Muller(a,p0,p1,p2,ftol=1.0e-10,maxiter=100):\n",
    "  \n",
    "      fp0 = PolyEval3(a=a,x=p0,d=0)[0]\n",
    "      fp1 = PolyEval3(a=a,x=p1,d=0)[0]\n",
    "      fp2 = PolyEval3(a=a,x=p2,d=0)[0]\n",
    "      \n",
    "      h1 = p1 - p0\n",
    "      h2 = p2 - p1\n",
    "      d1 = (fp1-fp0)/h1\n",
    "      d2 = (fp2-fp1)/h2\n",
    "      \n",
    "      d = (d2-d1)/(h1+h2)\n",
    "      df = pd.DataFrame(data={'p':[p0,p1,p2],'f(p)':[fp0,fp1,fp2]})\n",
    "      i = 3\n",
    "      \n",
    "      condition = True\n",
    "      while condition:\n",
    "          b = d2 + h2*d\n",
    "          fp2 = PolyEval3(a=a,x=p2,d=0)[0]\n",
    "          D = (b**2-4*fp2*d)**(1/2)\n",
    "          \n",
    "          if abs(b-D) < abs(b+D):\n",
    "            E = b+D\n",
    "          else:\n",
    "            E = b-D\n",
    "          \n",
    "          h = -2*fp2/E\n",
    "          p = p2 + h\n",
    "          fp = PolyEval3(a=a,x=p,d=0)[0]\n",
    "          df.loc[i,:] = {'p':p,'f(p)':fp}\n",
    "          print(f'i = {i:0f}, p = {p:.10f}, f(p) = {fp:.10f}')\n",
    "          \n",
    "          condition = abs(h) > ftol\n",
    "        \n",
    "          if condition:\n",
    "                p0 = p1\n",
    "                p1 = p2\n",
    "                p2 = p\n",
    "                \n",
    "                fp0 = PolyEval3(a,x=p0,d=0)[0]\n",
    "                fp1 = PolyEval3(a,x=p1,d=0)[0]\n",
    "                fp2 = PolyEval3(a,x=p2,d=0)[0]\n",
    "                \n",
    "                h1 = p1 - p0\n",
    "                h2 = p2 - p1\n",
    "                d1 = (fp1-fp0)/h1\n",
    "                d2 = (fp2-fp1)/h2\n",
    "                d = (d2-d1)/(h2+h1)\n",
    "                i = i + 1\n",
    "      \n",
    "      if i>=maxiter:\n",
    "        print(f'method failed after {maxiter} iterations')\n",
    "      else:\n",
    "        print(f'\\nRoot = {p:.2f}')\n",
    "      return (p,df)\n",
    "\n",
    "\n",
    "if __name__ == \"__main__\":\n",
    "  a = [1,1,1,-3,1]\n",
    "  p,df = Muller(a=a,p0 = -0.5,p1=0,p2=0.5)\n",
    "  print(f'p = {p:.10f}')\n",
    "  print(df)    "
   ]
  },
  {
   "cell_type": "code",
   "execution_count": null,
   "metadata": {},
   "outputs": [],
   "source": []
  }
 ],
 "metadata": {
  "kernelspec": {
   "display_name": "Python 3",
   "language": "python",
   "name": "python3"
  },
  "language_info": {
   "codemirror_mode": {
    "name": "ipython",
    "version": 3
   },
   "file_extension": ".py",
   "mimetype": "text/x-python",
   "name": "python",
   "nbconvert_exporter": "python",
   "pygments_lexer": "ipython3",
   "version": "3.9.7"
  },
  "orig_nbformat": 4
 },
 "nbformat": 4,
 "nbformat_minor": 2
}
