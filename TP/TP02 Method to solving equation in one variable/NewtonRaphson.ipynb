{
 "cells": [
  {
   "attachments": {},
   "cell_type": "markdown",
   "metadata": {},
   "source": [
    "<font color = yellow><b>I.) NewtonRaphson Method"
   ]
  },
  {
   "cell_type": "code",
   "execution_count": 11,
   "metadata": {},
   "outputs": [
    {
     "name": "stdout",
     "output_type": "stream",
     "text": [
      "step:1,x1 = 0.7395361335152383 and f(x1) = -0.0007548746825027\n",
      "step:2,x1 = 0.7390851781060102 and f(x1) = -0.0000000751298666\n",
      "step:3,x1 = 0.7390851332151610 and f(x1) = -0.0000000000000007\n",
      "step:4,x1 = 0.7390851332151606 and f(x1) = 0.0000000000000001\n",
      "step:5,x1 = 0.7390851332151607 and f(x1) = 0.0000000000000000\n",
      "\n",
      "Required root is : 0.7390851332151607\n"
     ]
    }
   ],
   "source": [
    "import pandas as pd\n",
    "def NewtonRaphson(f:callable, fp:callable, x0:float, e:float = 1.0e-16, N:int = 100): # f: collable : mean that f is a function, fp is differentiation of f\n",
    "  # N : is the number of operation that set limited at the value equal to 100 times.\n",
    "  step = 1\n",
    "  flag =  1\n",
    "  condition = True\n",
    "  \n",
    "  df = pd.DataFrame(data={'x':[x0],'f(x)':[f(x0)]})\n",
    "  \n",
    "  while condition:\n",
    "    if fp(x0)==0:\n",
    "      print(\"Divide by zero error !\")\n",
    "      break\n",
    "    x1 = x0-f(x0)/fp(x0)\n",
    "    print(f'step:{step},x1 = {x1:0.16f} and f(x1) = {f(x1):0.16f}')\n",
    "    \n",
    "    x0 = x1\n",
    "    df.loc[step] = {'x':x0,'f(x)':f(x0)}\n",
    "    step += 1\n",
    "    if step>N:\n",
    "      flag=0\n",
    "      break\n",
    "    condition = abs(f(x1))>e\n",
    "  \n",
    "  if(flag==1):\n",
    "    print(f'\\nRequired root is : {x1:0.16f}')\n",
    "  else:\n",
    "    print('\\nNot Convergent')\n",
    "  return df\n",
    "\n",
    "if __name__ == \"__main__\":\n",
    "  from math import sin, cos,pi\n",
    "  def f(x): \n",
    "    return cos(x)-x\n",
    "  def fp(x): \n",
    "    return -sin(x)-1\n",
    "\n",
    "  x0 = pi/4\n",
    "  e = 1.0e-16\n",
    "  df = NewtonRaphson(f,fp,x0,e)\n",
    "  df.style.format({'x':'{:.16f}','f(x)':'{:.16f}'}).to_latex('NewtonRaphson.text')\n",
    "  df.style.format({'x':'{:.16f}','f(x)':'{:.16f}'}).to_excel('NewtonRaphson.xlsx')\n",
    "      "
   ]
  },
  {
   "cell_type": "code",
   "execution_count": 3,
   "metadata": {},
   "outputs": [
    {
     "name": "stdout",
     "output_type": "stream",
     "text": [
      "step:1,x1 = 0.7395361335152383 and f(x1) = -0.0007548746825027\n",
      "step:2,x1 = 0.7390851781060102 and f(x1) = -0.0000000751298666\n",
      "step:3,x1 = 0.7390851332151610 and f(x1) = -0.0000000000000007\n",
      "step:4,x1 = 0.7390851332151606 and f(x1) = 0.0000000000000001\n",
      "step:5,x1 = 0.7390851332151607 and f(x1) = 0.0000000000000000\n",
      "\n",
      "Required root is : 0.7390851332151607\n",
      "          x          f(x)\n",
      "0  0.785398 -7.829138e-02\n",
      "1  0.739536 -7.548747e-04\n",
      "2  0.739085 -7.512987e-08\n",
      "3  0.739085 -6.661338e-16\n",
      "4  0.739085  1.110223e-16\n",
      "5  0.739085  0.000000e+00\n"
     ]
    }
   ],
   "source": [
    "from math import cos, sin, pi\n",
    "def f(x) : return cos(x)-x\n",
    "def fp(x): return -sin(x)-1\n",
    "df = NewtonRaphson(f=f,fp=fp,x0=pi/4)\n",
    "print(df)"
   ]
  },
  {
   "cell_type": "code",
   "execution_count": 4,
   "metadata": {},
   "outputs": [
    {
     "name": "stdout",
     "output_type": "stream",
     "text": [
      "0.7390851332151606\n"
     ]
    }
   ],
   "source": [
    "def NewtonRaphson(f,fp,p0,TOL=1e-10,N=100):\n",
    "  stop = N+1\n",
    "  for i in range(1,stop,1):\n",
    "    p=p0-f(p0)/fp(p0)\n",
    "    if(abs(p-p0)<TOL):\n",
    "      return p\n",
    "    else:\n",
    "      p0 = p\n",
    "  return None\n",
    "\n",
    "def f(x): return cos(x)-x\n",
    "def fp(x): return -sin(x)-1\n",
    "p0=pi/4\n",
    "p=NewtonRaphson(f,fp,p0)\n",
    "print(p)"
   ]
  },
  {
   "cell_type": "code",
   "execution_count": 5,
   "metadata": {},
   "outputs": [
    {
     "name": "stdout",
     "output_type": "stream",
     "text": [
      "i= 0,p=0.7853981633974483,f(p)=-0.0782913822109007\n",
      "i= 2,p=0.7395361335152383,f(p)=-0.0007548746825027\n",
      "i= 3,p=0.7390851781060102,f(p)=-0.0000000751298666\n",
      "i= 4,p=0.7390851332151610,f(p)=-0.0000000000000007\n",
      "i= 5,p=0.7390851332151606,f(p)=0.0000000000000001\n",
      "i= 6,p=0.7390851332151607,f(p)=0.0000000000000000\n",
      "i= 7,p=0.7390851332151607,f(p)=0.0000000000000000\n",
      "0.7390851332151607\n"
     ]
    }
   ],
   "source": [
    "def NewtonRaphson(f,fp,p0,TOL=1e-10,N=100):\n",
    "  print(f'i={0:2d},p={p0:0.16f},f(p)={f(p0):0.16f}')\n",
    "  for i in range(1,N,1):\n",
    "    p=p0-f(p0)/fp(p0)\n",
    "    print(f'i={i+1:2d},p={p:0.16f},f(p)={f(p):0.16f}')\n",
    "    if(abs(p-p0)<TOL):\n",
    "      return p\n",
    "    else:\n",
    "      p0 = p\n",
    "  return None\n",
    "\n",
    "def f(x): return cos(x)-x\n",
    "def fp(x): return -sin(x)-1 # is derivative of f(x)\n",
    "p0=pi/4\n",
    "p=NewtonRaphson(f,fp,p0,TOL=1e-16)\n",
    "print(p)"
   ]
  },
  {
   "attachments": {},
   "cell_type": "markdown",
   "metadata": {},
   "source": [
    "<font color = yellow><b>II.) Secant Method"
   ]
  },
  {
   "cell_type": "code",
   "execution_count": 6,
   "metadata": {},
   "outputs": [
    {
     "name": "stdout",
     "output_type": "stream",
     "text": [
      "i= 0,p=0.0000000000000000,f(p)=1.0000000000000000\n",
      "i= 2,p0=0.7283728464815218,f(p)=0.0178856681851859\n",
      "i= 3,p0=0.7389776206174816,f(p)=0.0001799301050975\n",
      "i= 4,p0=0.7390853889644541,f(p)=-0.0000004280251181\n",
      "i= 5,p0=0.7390851332090890,f(p)=0.0000000000101616\n",
      "i= 6,p0=0.7390851332151607,f(p)=0.0000000000000000\n",
      "i= 7,p0=0.7390851332151607,f(p)=0.0000000000000000\n",
      "0.7390851332151607\n"
     ]
    }
   ],
   "source": [
    "def SecantMethod(f,p0,p1,TOL=1e-10,N=100):\n",
    "  print(f'i={0:2d},p={p0:0.16f},f(p)={f(p0):0.16f}')\n",
    "  \n",
    "  for i in range(1,N,1):\n",
    "    p=p1-f(p1)*(p1-p0)/(f(p1)-f(p0))\n",
    "    print(f'i={i+1:2d},p0={p:0.16f},f(p)={f(p):0.16f}')\n",
    "    \n",
    "    if(abs(p-p1)<TOL):\n",
    "      return p\n",
    "    p0 = p1\n",
    "    p1 = p\n",
    "  return None\n",
    "\n",
    "def f(x): return cos(x)-x\n",
    "p0 = 0\n",
    "p1=pi/4\n",
    "p=SecantMethod(f,p0,p1,TOL=1e-16)\n",
    "print(p)"
   ]
  },
  {
   "cell_type": "code",
   "execution_count": null,
   "metadata": {},
   "outputs": [],
   "source": []
  }
 ],
 "metadata": {
  "kernelspec": {
   "display_name": "Python 3",
   "language": "python",
   "name": "python3"
  },
  "language_info": {
   "codemirror_mode": {
    "name": "ipython",
    "version": 3
   },
   "file_extension": ".py",
   "mimetype": "text/x-python",
   "name": "python",
   "nbconvert_exporter": "python",
   "pygments_lexer": "ipython3",
   "version": "3.9.7"
  },
  "orig_nbformat": 4
 },
 "nbformat": 4,
 "nbformat_minor": 2
}
