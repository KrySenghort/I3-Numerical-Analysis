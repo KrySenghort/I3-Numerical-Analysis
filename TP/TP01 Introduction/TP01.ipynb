{
 "cells": [
  {
   "attachments": {},
   "cell_type": "markdown",
   "id": "9fabbb76",
   "metadata": {},
   "source": [
    "$ Exercise1. $ $ Explain $ $ and $ $ develop $ $ a $ $ computer $ $ program $ $ to $ $ find $ $ roots $ $ of $ $ the $ $ equation : $ \n",
    "                      $ bx $ $ + $ $ c $ $= $ $ 0 $ "
   ]
  },
  {
   "attachments": {},
   "cell_type": "markdown",
   "id": "eabd7180",
   "metadata": {},
   "source": [
    "<b><font color = blue>First method</font></b>"
   ]
  },
  {
   "cell_type": "code",
   "execution_count": 10,
   "id": "95a0845a",
   "metadata": {},
   "outputs": [
    {
     "data": {
      "text/plain": [
       "-3.0"
      ]
     },
     "execution_count": 10,
     "metadata": {},
     "output_type": "execute_result"
    }
   ],
   "source": [
    "def f(b,c):\n",
    "  if(c==0):\n",
    "    print(\"there has no root\")\n",
    "  x = -c/b\n",
    "  return x\n",
    "f(3,9)"
   ]
  },
  {
   "attachments": {},
   "cell_type": "markdown",
   "id": "9ba6dcd8",
   "metadata": {},
   "source": [
    "<b><font color = blue>Second method</font></b>"
   ]
  },
  {
   "cell_type": "code",
   "execution_count": 21,
   "id": "f768d760",
   "metadata": {},
   "outputs": [
    {
     "name": "stdout",
     "output_type": "stream",
     "text": [
      "There exist a unique solution\n",
      "x=0.0\n"
     ]
    }
   ],
   "source": [
    "def solve_linear_equation(b:float, c:float)->float: # -> float is not important thing, it is just style.\n",
    "  x:float = 0.0\n",
    "  if(b==0):\n",
    "    if(c!=0):\n",
    "      print(\"There has no solutions\")\n",
    "    else:\n",
    "      print(\"There exist infinitely many solution\")\n",
    "  if(b!=0):\n",
    "      print(\"There exist a unique solution\")\n",
    "  x = -c/b\n",
    "  return x\n",
    "if __name__==\"__main__\":\n",
    "  x = solve_linear_equation(b=3,c=0)\n",
    "  print(f'x={x}')"
   ]
  },
  {
   "attachments": {},
   "cell_type": "markdown",
   "id": "7431c562",
   "metadata": {},
   "source": [
    "$ Exercise 2. $ $ Explain $ $ and $ $ develop $ $ a $ $ computer $ $ program $ $ to $ $ find $ $ roots $ $ of $ $ the $ $ equation: $\n",
    "$ ax^2 $ $ + $ $ bx $ $ + $ $ c $ $ = $ $ 0 $ "
   ]
  },
  {
   "attachments": {},
   "cell_type": "markdown",
   "id": "da6a53e2",
   "metadata": {},
   "source": [
    "<b><font color = blue>First method</font></b>"
   ]
  },
  {
   "cell_type": "code",
   "execution_count": 28,
   "id": "137c3385",
   "metadata": {},
   "outputs": [
    {
     "name": "stdout",
     "output_type": "stream",
     "text": [
      "There has no roots in |R but exist in complex\n"
     ]
    },
    {
     "data": {
      "text/plain": [
       "((-1.5+2.179449471770337j), (-1.5-2.179449471770337j))"
      ]
     },
     "execution_count": 28,
     "metadata": {},
     "output_type": "execute_result"
    }
   ],
   "source": [
    "from cmath import sqrt\n",
    "def f(a,b,c):\n",
    "    delta = pow(b,2) - 4*a*c\n",
    "    x1 = (-b+sqrt(delta))/(2*a)\n",
    "    x2 = (-b-sqrt(delta))/(2*a)\n",
    "    if(delta>=0):\n",
    "        print('There exist two roots :')\n",
    "    elif(delta<0):\n",
    "        print('There has no roots in |R but exist in complex')\n",
    "    return x1,x2\n",
    "f(1,3,7)"
   ]
  },
  {
   "attachments": {},
   "cell_type": "markdown",
   "id": "9cad26d8",
   "metadata": {},
   "source": [
    "<b><font color = blue>Second method</font></b>"
   ]
  },
  {
   "cell_type": "code",
   "execution_count": 30,
   "id": "2ebd936f",
   "metadata": {},
   "outputs": [
    {
     "name": "stdout",
     "output_type": "stream",
     "text": [
      "There are two roots\n",
      "x=((-0.4384471871911697+0j), (-4.561552812808831+0j))\n"
     ]
    }
   ],
   "source": [
    "import cmath as mt\n",
    "def f(a:float,b:float,c:float):\n",
    "  delta = pow(b,2)-4*a*c \n",
    "  x1 = (-b + mt.sqrt(delta))/(2*a)\n",
    "  x2 = (-b - mt.sqrt(delta))/(2*a) \n",
    "  if(delta>=0):\n",
    "    print(\"There are two roots\")\n",
    "  elif(delta<0):\n",
    "    print('There has no solution in |R but exist in complex')\n",
    "  return x1,x2\n",
    "if __name__==\"__main__\":\n",
    "  roots = f(a=1,b=5,c=2)\n",
    "  print(f'x={roots}')   "
   ]
  },
  {
   "attachments": {},
   "cell_type": "markdown",
   "id": "e6d98b97",
   "metadata": {},
   "source": [
    "$ Exercise3. $ $ Develop $ $ computer $ $ programs $ $ to $ $ compute $ $ the $ $ following $ $ sums $ $ with $ $ loops $ $ and $ $ then $ $ with $ $\n",
    "mathematical $ $ formula $ $ for $ $ n $ $ = $ $ 10, $ $ 20, $ $ 50. $ "
   ]
  },
  {
   "attachments": {},
   "cell_type": "markdown",
   "id": "bb35819c",
   "metadata": {},
   "source": [
    "$ a.) $ $ 1 $ $ + $ $2 $ $+ $ $3 $ $+ $ $... $ $+ $ $n $ $= $ $n(n+1)/2 $"
   ]
  },
  {
   "attachments": {},
   "cell_type": "markdown",
   "id": "8ff26ab9",
   "metadata": {},
   "source": [
    "<b><font color=blue>a.) operation by using loop : </font></b>"
   ]
  },
  {
   "cell_type": "code",
   "execution_count": 1,
   "id": "baee9655",
   "metadata": {},
   "outputs": [
    {
     "name": "stdout",
     "output_type": "stream",
     "text": [
      "55.0\n",
      "210.0\n",
      "1275.0\n"
     ]
    }
   ],
   "source": [
    "def sum1a(n:int):\n",
    "  s:float=0.0\n",
    "  for i in range(n+1):\n",
    "    s = s+i\n",
    "  return s\n",
    "for n in [10,20,50]:\n",
    "  print(sum1a(n))"
   ]
  },
  {
   "attachments": {},
   "cell_type": "markdown",
   "id": "997a18ca",
   "metadata": {},
   "source": [
    "<b><font color=blue>a.) operation by using mathematical formula : </font></b>"
   ]
  },
  {
   "cell_type": "code",
   "execution_count": 3,
   "id": "0415eb4a",
   "metadata": {},
   "outputs": [
    {
     "name": "stdout",
     "output_type": "stream",
     "text": [
      "55.0\n",
      "210.0\n",
      "1275.0\n"
     ]
    }
   ],
   "source": [
    "def sum2a(n:int):\n",
    "  result:float = n*(n+1)/2  \n",
    "  return result\n",
    "print(sum2a(10))\n",
    "print(sum2a(20))\n",
    "print(sum2a(50))"
   ]
  },
  {
   "attachments": {},
   "cell_type": "markdown",
   "id": "b6fb35fd",
   "metadata": {},
   "source": [
    "$ b.) $ $ 1^2 $ $ + $ $ 2^2 $ $ + $ $ 3^2 $ $ + $ $... $ $ + $ $n^2 $ $ = $ $ n(n+1)(2n+1)/6 $ "
   ]
  },
  {
   "attachments": {},
   "cell_type": "markdown",
   "id": "4f4e687a",
   "metadata": {},
   "source": [
    "<b><font color=blue>b.) operation by using loop : </font></b>"
   ]
  },
  {
   "cell_type": "code",
   "execution_count": 5,
   "id": "ea428634",
   "metadata": {},
   "outputs": [
    {
     "name": "stdout",
     "output_type": "stream",
     "text": [
      "385.0\n",
      "2870.0\n",
      "42925.0\n"
     ]
    }
   ],
   "source": [
    "def sum1b(n:int)->float:\n",
    "  result:float = 0.0\n",
    "  for k in range(n+1):\n",
    "    result += pow(k,2)\n",
    "  return result\n",
    "for m in [10,20,50]:\n",
    "  print(sum1b(m))"
   ]
  },
  {
   "attachments": {},
   "cell_type": "markdown",
   "id": "77e78c85",
   "metadata": {},
   "source": [
    "<b><font color=blue>b.) operation by using mathematical formula : </font></b>"
   ]
  },
  {
   "cell_type": "code",
   "execution_count": 10,
   "id": "ecb3deb8",
   "metadata": {},
   "outputs": [
    {
     "name": "stdout",
     "output_type": "stream",
     "text": [
      "385.0\n",
      "2870.0\n",
      "42925.0\n"
     ]
    }
   ],
   "source": [
    "def sum2b(n:int):\n",
    "  result:float = n*(n+1)*(2*n+1)/6      \n",
    "  return result\n",
    "for i in [10,20,50]:\n",
    "  print(sum2b(i))"
   ]
  },
  {
   "attachments": {},
   "cell_type": "markdown",
   "id": "83d8c057",
   "metadata": {},
   "source": [
    "$ c.) $ $ 1^3 $ $ + $ $ 2^3 $ $ + $ $ 3^3 $ $ + $ $... $ $ + $ $ n^3 $ $ = $ $ n^2(n+1)^2/2^2 $ "
   ]
  },
  {
   "attachments": {},
   "cell_type": "markdown",
   "id": "371fa815",
   "metadata": {},
   "source": [
    "<b><font color=blue>c.) operation by using loop : </font></b>"
   ]
  },
  {
   "cell_type": "code",
   "execution_count": 11,
   "id": "fa2f2ce0",
   "metadata": {},
   "outputs": [
    {
     "name": "stdout",
     "output_type": "stream",
     "text": [
      "3025\n",
      "44100\n",
      "1625625\n"
     ]
    }
   ],
   "source": [
    "def sum1c(n:int)->float:\n",
    "  output:float = 0\n",
    "  for x in range(n+1):\n",
    "    output += pow(x,3)\n",
    "  return output\n",
    "for n in [10,20,50]:\n",
    "  print(sum1c(n))"
   ]
  },
  {
   "attachments": {},
   "cell_type": "markdown",
   "id": "d224fd35",
   "metadata": {},
   "source": [
    "<b><font color=blue>c.) operation by using mathematically formula : </font></b>"
   ]
  },
  {
   "cell_type": "code",
   "execution_count": 12,
   "id": "937d0060",
   "metadata": {},
   "outputs": [
    {
     "name": "stdout",
     "output_type": "stream",
     "text": [
      "3025.0\n",
      "44100.0\n",
      "1625625.0\n"
     ]
    }
   ],
   "source": [
    "def sum2c(n:int)->float:\n",
    "  output:float = pow(n,2)*pow(n+1,2)/pow(2,2)\n",
    "  return output\n",
    "for j in [10,20,50]:\n",
    "  print(sum2c(j))"
   ]
  },
  {
   "attachments": {},
   "cell_type": "markdown",
   "id": "a0451af2",
   "metadata": {},
   "source": [
    "$ d.) $ $ 1^4 $ $ + $ $ 2^4 $ $ +  $ $ 3^4 $ $ + ... $ $ + $ $ n^4 $ $ = $ $ n(n+1)(2n+1)(3n^2+3n-1)/30 $ "
   ]
  },
  {
   "attachments": {},
   "cell_type": "markdown",
   "id": "0c846fbc",
   "metadata": {},
   "source": [
    "<b><font color=blue>d.) operation by using loop : </font></b>"
   ]
  },
  {
   "cell_type": "code",
   "execution_count": 18,
   "id": "22a581f1",
   "metadata": {},
   "outputs": [
    {
     "name": "stdout",
     "output_type": "stream",
     "text": [
      "25333.0\n",
      "722666.0\n",
      "21781332.0\n"
     ]
    }
   ],
   "source": [
    "def sum1d(n:int)->float:\n",
    "  result:float = 0.0\n",
    "  for i in range(n+1):\n",
    "    result += pow(i,4)\n",
    "  return result\n",
    "for k in [10,20,40]:\n",
    "  print(sum1d(k))"
   ]
  },
  {
   "attachments": {},
   "cell_type": "markdown",
   "id": "5bf00616",
   "metadata": {},
   "source": [
    "<b><font color=blue>d.) operation by using mathematical formula : </font></b>"
   ]
  },
  {
   "cell_type": "code",
   "execution_count": 22,
   "id": "0a24314c",
   "metadata": {},
   "outputs": [
    {
     "name": "stdout",
     "output_type": "stream",
     "text": [
      "25333.0\n",
      "722666.0\n",
      "65666665.0\n"
     ]
    }
   ],
   "source": [
    "def sum2d(n:int)->float:\n",
    "  result = n*(n+1)*(2*n+1)*(3*n**2+3*n-1)/30 \n",
    "  return result\n",
    "for l in [10,20,50]:\n",
    "  print(sum2d(l))"
   ]
  },
  {
   "attachments": {},
   "cell_type": "markdown",
   "id": "5413c03f",
   "metadata": {},
   "source": [
    "$ 4. $ $ Develop $ $ a $ $ computer $ $ program $ $ to $ $ determine $ $ the $ $ exponential $ $ function $ $ which $ $ can $ $ be $ $ written $ $ in $ $ infinite $ $ series $ $ form $\n",
    "> $ e^x $ $ = $ $ 1 $ $+ $ $x $ $+ $ $x^2/2! $ $+ $ $x^3/3! $ $+ $ $x^4/4! $ $+ $ $ ... $ \n",
    "> $ then $ $ compute $ $ the $ $ value $ $ of $ $ e^x $ $ for $ $ x $ $ = $ $ 0.1, $ $ 0.5, $ $ 1 $ $ with $ $ polynomial $ $ approximation $ $ of $ $ degree $ $ 5. $ "
   ]
  },
  {
   "cell_type": "code",
   "execution_count": 23,
   "id": "7ebfa940",
   "metadata": {},
   "outputs": [
    {
     "name": "stdout",
     "output_type": "stream",
     "text": [
      "1.1051709180756477\n",
      "1.6487212707001282\n",
      "2.718281828459045\n"
     ]
    }
   ],
   "source": [
    "def exp(x:float,n:int=5)->float:\n",
    "  s:float = 1+x/n\n",
    "  for k in range(n-1,0,-1):\n",
    "    s = s*x/k + 1\n",
    "  return s\n",
    "for x in [0.1,0.5,1]:\n",
    "  print(exp(x,100))"
   ]
  },
  {
   "attachments": {},
   "cell_type": "markdown",
   "id": "dbb92f16",
   "metadata": {},
   "source": [
    "<h2><p style = 'text-align:center'><b>The end !</b></p>"
   ]
  }
 ],
 "metadata": {
  "kernelspec": {
   "display_name": "Python 3",
   "language": "python",
   "name": "python3"
  },
  "language_info": {
   "codemirror_mode": {
    "name": "ipython",
    "version": 3
   },
   "file_extension": ".py",
   "mimetype": "text/x-python",
   "name": "python",
   "nbconvert_exporter": "python",
   "pygments_lexer": "ipython3",
   "version": "3.9.7"
  },
  "vscode": {
   "interpreter": {
    "hash": "c2c6c802744550c4999ab05f348c6cbdea7d30b4eb26f6322e634f81da96d8ed"
   }
  }
 },
 "nbformat": 4,
 "nbformat_minor": 5
}
