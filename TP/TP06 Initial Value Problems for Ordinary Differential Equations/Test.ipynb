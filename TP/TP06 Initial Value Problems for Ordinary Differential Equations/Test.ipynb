{
 "cells": [
  {
   "cell_type": "code",
   "execution_count": 1,
   "metadata": {},
   "outputs": [
    {
     "name": "stdout",
     "output_type": "stream",
     "text": [
      "Approximate value of y1(1.0): -8.417545399501556\n"
     ]
    }
   ],
   "source": [
    "import math\n",
    "\n",
    "# Given initial conditions\n",
    "t = 0.0\n",
    "y1 = -2.0\n",
    "y2 = 4.0\n",
    "\n",
    "# Step size\n",
    "h = 1.0 / 20\n",
    "\n",
    "# Runge-Kutta iteration for n steps\n",
    "for i in range(20):\n",
    "    k1 = h * (-y2 + 4 * math.exp(-t))\n",
    "    l1 = h * (y1 + 2 * y2 - math.exp(-t))\n",
    "\n",
    "    k2 = h * (-y2 + 4 * math.exp(-(t + h/2)) + k1/2)\n",
    "    l2 = h * (y1 + 2 * (y2 + l1/2) - math.exp(-(t + h/2)))\n",
    "\n",
    "    k3 = h * (-y2 + 4 * math.exp(-(t + h/2)) + k2/2)\n",
    "    l3 = h * (y1 + 2 * (y2 + l2/2) - math.exp(-(t + h/2)))\n",
    "\n",
    "    k4 = h * (-y2 + 4 * math.exp(-(t + h)) + k3)\n",
    "    l4 = h * (y1 + 2 * (y2 + l3) - math.exp(-(t + h)))\n",
    "\n",
    "    y1 += (k1 + 2 * k2 + 2 * k3 + k4) / 6\n",
    "    y2 += (l1 + 2 * l2 + 2 * l3 + l4) / 6\n",
    "\n",
    "    t += h\n",
    "\n",
    "# The approximate value of y1(1.0) is now stored in the variable y1\n",
    "print(\"Approximate value of y1(1.0):\", y1)"
   ]
  },
  {
   "cell_type": "code",
   "execution_count": 2,
   "metadata": {},
   "outputs": [
    {
     "name": "stdout",
     "output_type": "stream",
     "text": [
      "Approximate value of y1(1.0): -221.01100226902076\n"
     ]
    }
   ],
   "source": [
    "# Given system of IVPs\n",
    "def f(t, y1, y2):\n",
    "    return y1 - 6*y2 - t**2 + 6\n",
    "\n",
    "def g(t, y1, y2):\n",
    "    return -y1 + y2 + 4*t\n",
    "\n",
    "# Given initial conditions\n",
    "t = 0.0\n",
    "y1 = -3.0\n",
    "y2 = 5.0\n",
    "\n",
    "# Step size\n",
    "h = 1.0 / 20\n",
    "\n",
    "# Runge-Kutta iteration for n steps\n",
    "for i in range(20):\n",
    "    k1 = h * f(t, y1, y2)\n",
    "    l1 = h * g(t, y1, y2)\n",
    "\n",
    "    k2 = h * f(t + h/2, y1 + k1/2, y2 + l1/2)\n",
    "    l2 = h * g(t + h/2, y1 + k1/2, y2 + l1/2)\n",
    "\n",
    "    k3 = h * f(t + h/2, y1 + k2/2, y2 + l2/2)\n",
    "    l3 = h * g(t + h/2, y1 + k2/2, y2 + l2/2)\n",
    "\n",
    "    k4 = h * f(t + h, y1 + k3, y2 + l3)\n",
    "    l4 = h * g(t + h, y1 + k3, y2 + l3)\n",
    "\n",
    "    y1 += (k1 + 2*k2 + 2*k3 + k4) / 6\n",
    "    y2 += (l1 + 2*l2 + 2*l3 + l4) / 6\n",
    "\n",
    "    t += h\n",
    "\n",
    "# The approximate value of y1(1.0) is now stored in the variable y1\n",
    "print(\"Approximate value of y1(1.0):\", y1)\n"
   ]
  },
  {
   "cell_type": "code",
   "execution_count": 3,
   "metadata": {},
   "outputs": [
    {
     "name": "stdout",
     "output_type": "stream",
     "text": [
      "Approximate value of y1(1.0): 0.7357588745384881\n"
     ]
    }
   ],
   "source": [
    "# Given system of IVPs\n",
    "def f(t, y1, y2):\n",
    "    return -y1 + math.exp(-t)\n",
    "\n",
    "def g(t, y1, y2):\n",
    "    return y1 - 2*y2 - math.exp(-t)\n",
    "\n",
    "# Given initial conditions\n",
    "t = 0.0\n",
    "y1 = 1.0\n",
    "y2 = 2.0\n",
    "\n",
    "# Step size\n",
    "h = 1.0 / 20\n",
    "\n",
    "# Runge-Kutta iteration for n steps\n",
    "for i in range(20):\n",
    "    k1 = h * f(t, y1, y2)\n",
    "    l1 = h * g(t, y1, y2)\n",
    "\n",
    "    k2 = h * f(t + h/2, y1 + k1/2, y2 + l1/2)\n",
    "    l2 = h * g(t + h/2, y1 + k1/2, y2 + l1/2)\n",
    "\n",
    "    k3 = h * f(t + h/2, y1 + k2/2, y2 + l2/2)\n",
    "    l3 = h * g(t + h/2, y1 + k2/2, y2 + l2/2)\n",
    "\n",
    "    k4 = h * f(t + h, y1 + k3, y2 + l3)\n",
    "    l4 = h * g(t + h, y1 + k3, y2 + l3)\n",
    "\n",
    "    y1 += (k1 + 2*k2 + 2*k3 + k4) / 6\n",
    "    y2 += (l1 + 2*l2 + 2*l3 + l4) / 6\n",
    "\n",
    "    t += h\n",
    "\n",
    "# The approximate value of y1(1.0) is now stored in the variable y1\n",
    "print(\"Approximate value of y1(1.0):\", y1)\n"
   ]
  },
  {
   "cell_type": "code",
   "execution_count": 4,
   "metadata": {},
   "outputs": [
    {
     "name": "stdout",
     "output_type": "stream",
     "text": [
      "Approximate value of y1(1.0): 14.778084752832873\n"
     ]
    }
   ],
   "source": [
    "# Given system of IVPs\n",
    "def f(t, y1, y2):\n",
    "    return 2 * y1 + math.exp(2 * t)\n",
    "\n",
    "def g(t, y1, y2):\n",
    "    return y2 + (1 - 2 * t) * math.exp(t)\n",
    "\n",
    "# Given initial conditions\n",
    "t = 0.0\n",
    "y1 = 1.0\n",
    "y2 = -2.0\n",
    "\n",
    "# Step size\n",
    "h = 1.0 / 20\n",
    "\n",
    "# Runge-Kutta iteration for n steps\n",
    "for i in range(20):\n",
    "    k1 = h * f(t, y1, y2)\n",
    "    l1 = h * g(t, y1, y2)\n",
    "\n",
    "    k2 = h * f(t + h/2, y1 + k1/2, y2 + l1/2)\n",
    "    l2 = h * g(t + h/2, y1 + k1/2, y2 + l1/2)\n",
    "\n",
    "    k3 = h * f(t + h/2, y1 + k2/2, y2 + l2/2)\n",
    "    l3 = h * g(t + h/2, y1 + k2/2, y2 + l2/2)\n",
    "\n",
    "    k4 = h * f(t + h, y1 + k3, y2 + l3)\n",
    "    l4 = h * g(t + h, y1 + k3, y2 + l3)\n",
    "\n",
    "    y1 += (k1 + 2*k2 + 2*k3 + k4) / 6\n",
    "    y2 += (l1 + 2*l2 + 2*l3 + l4) / 6\n",
    "\n",
    "    t += h\n",
    "\n",
    "# The approximate value of y1(1.0) is now stored in the variable y1\n",
    "print(\"Approximate value of y1(1.0):\", y1)\n"
   ]
  },
  {
   "cell_type": "code",
   "execution_count": null,
   "metadata": {},
   "outputs": [],
   "source": []
  }
 ],
 "metadata": {
  "kernelspec": {
   "display_name": "Python 3",
   "language": "python",
   "name": "python3"
  },
  "language_info": {
   "codemirror_mode": {
    "name": "ipython",
    "version": 3
   },
   "file_extension": ".py",
   "mimetype": "text/x-python",
   "name": "python",
   "nbconvert_exporter": "python",
   "pygments_lexer": "ipython3",
   "version": "3.9.7"
  },
  "orig_nbformat": 4
 },
 "nbformat": 4,
 "nbformat_minor": 2
}
