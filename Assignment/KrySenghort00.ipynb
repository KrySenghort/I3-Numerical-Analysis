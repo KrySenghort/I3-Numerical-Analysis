{
 "cells": [
  {
   "attachments": {},
   "cell_type": "markdown",
   "metadata": {},
   "source": [
    "### <p style = 'text-align:center'>0. Pandas Tutorial"
   ]
  },
  {
   "attachments": {},
   "cell_type": "markdown",
   "metadata": {},
   "source": [
    "<p style = 'text-align:center'>March 25, 2023"
   ]
  },
  {
   "cell_type": "code",
   "execution_count": 3,
   "metadata": {},
   "outputs": [],
   "source": [
    "import pandas as pd"
   ]
  },
  {
   "cell_type": "code",
   "execution_count": 4,
   "metadata": {},
   "outputs": [
    {
     "data": {
      "text/html": [
       "<div>\n",
       "<style scoped>\n",
       "    .dataframe tbody tr th:only-of-type {\n",
       "        vertical-align: middle;\n",
       "    }\n",
       "\n",
       "    .dataframe tbody tr th {\n",
       "        vertical-align: top;\n",
       "    }\n",
       "\n",
       "    .dataframe thead th {\n",
       "        text-align: right;\n",
       "    }\n",
       "</style>\n",
       "<table border=\"1\" class=\"dataframe\">\n",
       "  <thead>\n",
       "    <tr style=\"text-align: right;\">\n",
       "      <th></th>\n",
       "      <th>Student ID</th>\n",
       "      <th>Student Name</th>\n",
       "      <th>Gender</th>\n",
       "      <th>Department</th>\n",
       "      <th>Email</th>\n",
       "    </tr>\n",
       "    <tr>\n",
       "      <th>No</th>\n",
       "      <th></th>\n",
       "      <th></th>\n",
       "      <th></th>\n",
       "      <th></th>\n",
       "      <th></th>\n",
       "    </tr>\n",
       "  </thead>\n",
       "  <tbody>\n",
       "    <tr>\n",
       "      <th>1</th>\n",
       "      <td>e20200861</td>\n",
       "      <td>BUT CHEABLENG</td>\n",
       "      <td>M</td>\n",
       "      <td>I3AMS</td>\n",
       "      <td>e20200861@itc.edu.kh</td>\n",
       "    </tr>\n",
       "    <tr>\n",
       "      <th>2</th>\n",
       "      <td>e20201690</td>\n",
       "      <td>BUTH KHEMRA</td>\n",
       "      <td>M</td>\n",
       "      <td>I3AMS</td>\n",
       "      <td>e20201690@itc.edu.kh</td>\n",
       "    </tr>\n",
       "    <tr>\n",
       "      <th>3</th>\n",
       "      <td>e20201131</td>\n",
       "      <td>CHEA MAKARA</td>\n",
       "      <td>M</td>\n",
       "      <td>I3AMS</td>\n",
       "      <td>e20201131@itc.edu.kh</td>\n",
       "    </tr>\n",
       "    <tr>\n",
       "      <th>4</th>\n",
       "      <td>e20200702</td>\n",
       "      <td>CHEA ROTHA</td>\n",
       "      <td>M</td>\n",
       "      <td>I3AMS</td>\n",
       "      <td>e20200702@itc.edu.kh</td>\n",
       "    </tr>\n",
       "    <tr>\n",
       "      <th>5</th>\n",
       "      <td>e20200934</td>\n",
       "      <td>CHHON CHAINA</td>\n",
       "      <td>M</td>\n",
       "      <td>I3AMS</td>\n",
       "      <td>e20200934@itc.edu.kh</td>\n",
       "    </tr>\n",
       "  </tbody>\n",
       "</table>\n",
       "</div>"
      ],
      "text/plain": [
       "   Student ID   Student Name Gender Department                 Email\n",
       "No                                                                  \n",
       "1   e20200861  BUT CHEABLENG      M      I3AMS  e20200861@itc.edu.kh\n",
       "2   e20201690    BUTH KHEMRA      M      I3AMS  e20201690@itc.edu.kh\n",
       "3   e20201131    CHEA MAKARA      M      I3AMS  e20201131@itc.edu.kh\n",
       "4   e20200702     CHEA ROTHA      M      I3AMS  e20200702@itc.edu.kh\n",
       "5   e20200934   CHHON CHAINA      M      I3AMS  e20200934@itc.edu.kh"
      ]
     },
     "execution_count": 4,
     "metadata": {},
     "output_type": "execute_result"
    }
   ],
   "source": [
    "df = pd.read_excel(io='i3student.xlsx',index_col=0,)\n",
    "df.head()"
   ]
  },
  {
   "cell_type": "code",
   "execution_count": 5,
   "metadata": {},
   "outputs": [
    {
     "name": "stdout",
     "output_type": "stream",
     "text": [
      "<class 'pandas.core.frame.DataFrame'>\n",
      "Int64Index: 1385 entries, 1 to 1385\n",
      "Data columns (total 5 columns):\n",
      " #   Column        Non-Null Count  Dtype \n",
      "---  ------        --------------  ----- \n",
      " 0   Student ID    1385 non-null   object\n",
      " 1   Student Name  1385 non-null   object\n",
      " 2   Gender        1385 non-null   object\n",
      " 3   Department    1385 non-null   object\n",
      " 4   Email         1385 non-null   object\n",
      "dtypes: object(5)\n",
      "memory usage: 64.9+ KB\n"
     ]
    }
   ],
   "source": [
    "df.info()"
   ]
  },
  {
   "cell_type": "code",
   "execution_count": 7,
   "metadata": {},
   "outputs": [
    {
     "data": {
      "text/html": [
       "<div>\n",
       "<style scoped>\n",
       "    .dataframe tbody tr th:only-of-type {\n",
       "        vertical-align: middle;\n",
       "    }\n",
       "\n",
       "    .dataframe tbody tr th {\n",
       "        vertical-align: top;\n",
       "    }\n",
       "\n",
       "    .dataframe thead th {\n",
       "        text-align: right;\n",
       "    }\n",
       "</style>\n",
       "<table border=\"1\" class=\"dataframe\">\n",
       "  <thead>\n",
       "    <tr style=\"text-align: right;\">\n",
       "      <th></th>\n",
       "      <th>Student ID</th>\n",
       "      <th>Student Name</th>\n",
       "      <th>Gender</th>\n",
       "      <th>Department</th>\n",
       "      <th>Email</th>\n",
       "    </tr>\n",
       "  </thead>\n",
       "  <tbody>\n",
       "    <tr>\n",
       "      <th>count</th>\n",
       "      <td>1385</td>\n",
       "      <td>1385</td>\n",
       "      <td>1385</td>\n",
       "      <td>1385</td>\n",
       "      <td>1385</td>\n",
       "    </tr>\n",
       "    <tr>\n",
       "      <th>unique</th>\n",
       "      <td>1385</td>\n",
       "      <td>1384</td>\n",
       "      <td>2</td>\n",
       "      <td>11</td>\n",
       "      <td>1385</td>\n",
       "    </tr>\n",
       "    <tr>\n",
       "      <th>top</th>\n",
       "      <td>e20200861</td>\n",
       "      <td>SOK RATHA</td>\n",
       "      <td>M</td>\n",
       "      <td>I3GCI</td>\n",
       "      <td>e20200861@itc.edu.kh</td>\n",
       "    </tr>\n",
       "    <tr>\n",
       "      <th>freq</th>\n",
       "      <td>1</td>\n",
       "      <td>2</td>\n",
       "      <td>947</td>\n",
       "      <td>219</td>\n",
       "      <td>1</td>\n",
       "    </tr>\n",
       "  </tbody>\n",
       "</table>\n",
       "</div>"
      ],
      "text/plain": [
       "       Student ID Student Name Gender Department                 Email\n",
       "count        1385         1385   1385       1385                  1385\n",
       "unique       1385         1384      2         11                  1385\n",
       "top     e20200861    SOK RATHA      M      I3GCI  e20200861@itc.edu.kh\n",
       "freq            1            2    947        219                     1"
      ]
     },
     "execution_count": 7,
     "metadata": {},
     "output_type": "execute_result"
    }
   ],
   "source": [
    "df.describe()"
   ]
  },
  {
   "cell_type": "code",
   "execution_count": 10,
   "metadata": {},
   "outputs": [
    {
     "data": {
      "text/html": [
       "<div>\n",
       "<style scoped>\n",
       "    .dataframe tbody tr th:only-of-type {\n",
       "        vertical-align: middle;\n",
       "    }\n",
       "\n",
       "    .dataframe tbody tr th {\n",
       "        vertical-align: top;\n",
       "    }\n",
       "\n",
       "    .dataframe thead th {\n",
       "        text-align: right;\n",
       "    }\n",
       "</style>\n",
       "<table border=\"1\" class=\"dataframe\">\n",
       "  <thead>\n",
       "    <tr style=\"text-align: right;\">\n",
       "      <th></th>\n",
       "      <th>Student ID</th>\n",
       "      <th>Student Name</th>\n",
       "      <th>Gender</th>\n",
       "      <th>Department</th>\n",
       "      <th>Email</th>\n",
       "    </tr>\n",
       "    <tr>\n",
       "      <th>No</th>\n",
       "      <th></th>\n",
       "      <th></th>\n",
       "      <th></th>\n",
       "      <th></th>\n",
       "      <th></th>\n",
       "    </tr>\n",
       "  </thead>\n",
       "  <tbody>\n",
       "    <tr>\n",
       "      <th>30</th>\n",
       "      <td>e20200706</td>\n",
       "      <td>KRY SENGHORT</td>\n",
       "      <td>M</td>\n",
       "      <td>I3AMS</td>\n",
       "      <td>e20200706@itc.edu.kh</td>\n",
       "    </tr>\n",
       "  </tbody>\n",
       "</table>\n",
       "</div>"
      ],
      "text/plain": [
       "   Student ID  Student Name Gender Department                 Email\n",
       "No                                                                 \n",
       "30  e20200706  KRY SENGHORT      M      I3AMS  e20200706@itc.edu.kh"
      ]
     },
     "execution_count": 10,
     "metadata": {},
     "output_type": "execute_result"
    }
   ],
   "source": [
    "Kry_Seng_Hort = df.loc[df.loc[:,'Student Name']=='KRY SENGHORT']\n",
    "Kry_Seng_Hort"
   ]
  },
  {
   "cell_type": "code",
   "execution_count": 9,
   "metadata": {},
   "outputs": [
    {
     "data": {
      "text/html": [
       "<div>\n",
       "<style scoped>\n",
       "    .dataframe tbody tr th:only-of-type {\n",
       "        vertical-align: middle;\n",
       "    }\n",
       "\n",
       "    .dataframe tbody tr th {\n",
       "        vertical-align: top;\n",
       "    }\n",
       "\n",
       "    .dataframe thead th {\n",
       "        text-align: right;\n",
       "    }\n",
       "</style>\n",
       "<table border=\"1\" class=\"dataframe\">\n",
       "  <thead>\n",
       "    <tr style=\"text-align: right;\">\n",
       "      <th></th>\n",
       "      <th>Student ID</th>\n",
       "      <th>Student Name</th>\n",
       "      <th>Gender</th>\n",
       "      <th>Department</th>\n",
       "      <th>Email</th>\n",
       "    </tr>\n",
       "    <tr>\n",
       "      <th>No</th>\n",
       "      <th></th>\n",
       "      <th></th>\n",
       "      <th></th>\n",
       "      <th></th>\n",
       "      <th></th>\n",
       "    </tr>\n",
       "  </thead>\n",
       "  <tbody>\n",
       "    <tr>\n",
       "      <th>758</th>\n",
       "      <td>e20201026</td>\n",
       "      <td>SOK RATHA</td>\n",
       "      <td>M</td>\n",
       "      <td>I3GEE</td>\n",
       "      <td>e20201026@itc.edu.kh</td>\n",
       "    </tr>\n",
       "    <tr>\n",
       "      <th>1091</th>\n",
       "      <td>e20200567</td>\n",
       "      <td>SOK RATHA</td>\n",
       "      <td>M</td>\n",
       "      <td>I3GIM</td>\n",
       "      <td>e20200567@itc.edu.kh</td>\n",
       "    </tr>\n",
       "  </tbody>\n",
       "</table>\n",
       "</div>"
      ],
      "text/plain": [
       "     Student ID Student Name Gender Department                 Email\n",
       "No                                                                  \n",
       "758   e20201026    SOK RATHA      M      I3GEE  e20201026@itc.edu.kh\n",
       "1091  e20200567    SOK RATHA      M      I3GIM  e20200567@itc.edu.kh"
      ]
     },
     "execution_count": 9,
     "metadata": {},
     "output_type": "execute_result"
    }
   ],
   "source": [
    "Sok_ratha = df.loc[df.loc[:,'Student Name']=='SOK RATHA']\n",
    "Sok_ratha"
   ]
  },
  {
   "cell_type": "code",
   "execution_count": 12,
   "metadata": {},
   "outputs": [
    {
     "name": "stdout",
     "output_type": "stream",
     "text": [
      "    Student ID     Student Name Gender Department                 Email\n",
      "No                                                                     \n",
      "1    e20200861    BUT CHEABLENG      M      I3AMS  e20200861@itc.edu.kh\n",
      "2    e20201690      BUTH KHEMRA      M      I3AMS  e20201690@itc.edu.kh\n",
      "3    e20201131      CHEA MAKARA      M      I3AMS  e20201131@itc.edu.kh\n",
      "4    e20200702       CHEA ROTHA      M      I3AMS  e20200702@itc.edu.kh\n",
      "5    e20200934     CHHON CHAINA      M      I3AMS  e20200934@itc.edu.kh\n",
      "..         ...              ...    ...        ...                   ...\n",
      "84   e20201068    VINLAY ANUSAR      M      I3AMS  e20201068@itc.edu.kh\n",
      "85   e20200745         YA MANON      M      I3AMS  e20200745@itc.edu.kh\n",
      "86   e20200625  YIT BUN VATHANA      M      I3AMS  e20200625@itc.edu.kh\n",
      "87   e20200727     YOU PHAKKORN      M      I3AMS  e20200727@itc.edu.kh\n",
      "301  e20200370        PHY KANHA      F      I3AMS  e20200370@itc.edu.kh\n",
      "\n",
      "[88 rows x 5 columns]\n"
     ]
    }
   ],
   "source": [
    "AMS_selection = df.loc[:,'Department'] == 'I3AMS'\n",
    "i3ams = df.loc[AMS_selection]\n",
    "print(i3ams)"
   ]
  },
  {
   "cell_type": "code",
   "execution_count": 13,
   "metadata": {},
   "outputs": [
    {
     "name": "stdout",
     "output_type": "stream",
     "text": [
      "     Student ID     Student Name Gender Department                 Email\n",
      "No                                                                      \n",
      "635   e20201044      AING NARONG      M      I3GEE  e20201044@itc.edu.kh\n",
      "416   e20200937     AM CHANPANHA      M      I3GCI  e20200937@itc.edu.kh\n",
      "417   e20190006       AN BRONITH      M      I3GCI  e20190006@itc.edu.kh\n",
      "184   e20200429        AN CHANNA      F      I3GCA  e20200429@itc.edu.kh\n",
      "968   e20200357         AN RITHY      M      I3GIM  e20200357@itc.edu.kh\n",
      "...         ...              ...    ...        ...                   ...\n",
      "1129  e20200595    YOUVARA DANIN      M      I3GIM  e20200595@itc.edu.kh\n",
      "1242  e20201462  YUN DARAVATHANA      M      I3GRU  e20201462@itc.edu.kh\n",
      "634   e20201509       YUN VANNET      M      I3GCI  e20201509@itc.edu.kh\n",
      "805   e20200035       YUN YISEAN      M      I3GEE  e20200035@itc.edu.kh\n",
      "415   e20201013       YUOS SOKNY      M      I3GCA  e20201013@itc.edu.kh\n",
      "\n",
      "[1385 rows x 5 columns]\n"
     ]
    }
   ],
   "source": [
    "df_sorted = df.sort_values(by=['Student Name','Gender'])\n",
    "print(df_sorted)"
   ]
  },
  {
   "cell_type": "code",
   "execution_count": 14,
   "metadata": {},
   "outputs": [
    {
     "name": "stdout",
     "output_type": "stream",
     "text": [
      "     Department Gender\n",
      "No                    \n",
      "1         I3AMS      M\n",
      "2         I3AMS      M\n",
      "3         I3AMS      M\n",
      "4         I3AMS      M\n",
      "5         I3AMS      M\n",
      "...         ...    ...\n",
      "1381      I3GTR      M\n",
      "1382      I3GTR      M\n",
      "1383      I3GTR      F\n",
      "1384      I3GTR      M\n",
      "1385      I3GTR      M\n",
      "\n",
      "[1385 rows x 2 columns]\n"
     ]
    }
   ],
   "source": [
    "df_sliced = df.loc[:,['Department','Gender']]\n",
    "print(df_sliced)"
   ]
  },
  {
   "cell_type": "code",
   "execution_count": 16,
   "metadata": {},
   "outputs": [
    {
     "name": "stdout",
     "output_type": "stream",
     "text": [
      "   Department Gender    0\n",
      "0       I3AMS      F   22\n",
      "1       I3AMS      M   66\n",
      "2       I3GAR      F   37\n",
      "3       I3GAR      M   60\n",
      "4       I3GCA      F  134\n",
      "5       I3GCA      M   58\n",
      "6       I3GCI      F   19\n",
      "7       I3GCI      M  200\n",
      "8       I3GEE      F   38\n",
      "9       I3GEE      M  140\n",
      "10      I3GGG      F   35\n",
      "11      I3GGG      M   59\n",
      "12      I3GIC      F   20\n",
      "13      I3GIC      M   60\n",
      "14      I3GIM      F   26\n",
      "15      I3GIM      M  139\n",
      "16      I3GRU      F   56\n",
      "17      I3GRU      M   66\n",
      "18      I3GTI      F   28\n",
      "19      I3GTI      M   55\n",
      "20      I3GTR      F   23\n",
      "21      I3GTR      M   44\n"
     ]
    }
   ],
   "source": [
    "df_grouped = df_sliced.groupby(by=['Department','Gender']).value_counts().reset_index()\n",
    "print(df_grouped)"
   ]
  },
  {
   "cell_type": "code",
   "execution_count": 21,
   "metadata": {},
   "outputs": [
    {
     "name": "stdout",
     "output_type": "stream",
     "text": [
      "   Department Gender  Count\n",
      "0       I3AMS      F     22\n",
      "1       I3AMS      M     66\n",
      "2       I3GAR      F     37\n",
      "3       I3GAR      M     60\n",
      "4       I3GCA      F    134\n",
      "5       I3GCA      M     58\n",
      "6       I3GCI      F     19\n",
      "7       I3GCI      M    200\n",
      "8       I3GEE      F     38\n",
      "9       I3GEE      M    140\n",
      "10      I3GGG      F     35\n",
      "11      I3GGG      M     59\n",
      "12      I3GIC      F     20\n",
      "13      I3GIC      M     60\n",
      "14      I3GIM      F     26\n",
      "15      I3GIM      M    139\n",
      "16      I3GRU      F     56\n",
      "17      I3GRU      M     66\n",
      "18      I3GTI      F     28\n",
      "19      I3GTI      M     55\n",
      "20      I3GTR      F     23\n",
      "21      I3GTR      M     44\n"
     ]
    }
   ],
   "source": [
    "df_renamed = df_grouped.rename(columns={0:'Count'})\n",
    "print(df_renamed)"
   ]
  },
  {
   "cell_type": "code",
   "execution_count": 22,
   "metadata": {},
   "outputs": [
    {
     "name": "stdout",
     "output_type": "stream",
     "text": [
      "Gender        F    M\n",
      "Department          \n",
      "I3AMS        22   66\n",
      "I3GAR        37   60\n",
      "I3GCA       134   58\n",
      "I3GCI        19  200\n",
      "I3GEE        38  140\n",
      "I3GGG        35   59\n",
      "I3GIC        20   60\n",
      "I3GIM        26  139\n",
      "I3GRU        56   66\n",
      "I3GTI        28   55\n",
      "I3GTR        23   44\n"
     ]
    }
   ],
   "source": [
    "df_pivoted = df_renamed.pivot_table(index='Department',columns='Gender',values='Count')\n",
    "print(df_pivoted)"
   ]
  },
  {
   "cell_type": "code",
   "execution_count": 26,
   "metadata": {},
   "outputs": [
    {
     "data": {
      "text/html": [
       "<div>\n",
       "<style scoped>\n",
       "    .dataframe tbody tr th:only-of-type {\n",
       "        vertical-align: middle;\n",
       "    }\n",
       "\n",
       "    .dataframe tbody tr th {\n",
       "        vertical-align: top;\n",
       "    }\n",
       "\n",
       "    .dataframe thead th {\n",
       "        text-align: right;\n",
       "    }\n",
       "</style>\n",
       "<table border=\"1\" class=\"dataframe\">\n",
       "  <thead>\n",
       "    <tr style=\"text-align: right;\">\n",
       "      <th></th>\n",
       "      <th>Department</th>\n",
       "      <th>Gender</th>\n",
       "      <th>Count</th>\n",
       "    </tr>\n",
       "  </thead>\n",
       "  <tbody>\n",
       "    <tr>\n",
       "      <th>0</th>\n",
       "      <td>I3AMS</td>\n",
       "      <td>F</td>\n",
       "      <td>22</td>\n",
       "    </tr>\n",
       "    <tr>\n",
       "      <th>1</th>\n",
       "      <td>I3GAR</td>\n",
       "      <td>F</td>\n",
       "      <td>37</td>\n",
       "    </tr>\n",
       "    <tr>\n",
       "      <th>2</th>\n",
       "      <td>I3GCA</td>\n",
       "      <td>F</td>\n",
       "      <td>134</td>\n",
       "    </tr>\n",
       "    <tr>\n",
       "      <th>3</th>\n",
       "      <td>I3GCI</td>\n",
       "      <td>F</td>\n",
       "      <td>19</td>\n",
       "    </tr>\n",
       "    <tr>\n",
       "      <th>4</th>\n",
       "      <td>I3GEE</td>\n",
       "      <td>F</td>\n",
       "      <td>38</td>\n",
       "    </tr>\n",
       "    <tr>\n",
       "      <th>5</th>\n",
       "      <td>I3GGG</td>\n",
       "      <td>F</td>\n",
       "      <td>35</td>\n",
       "    </tr>\n",
       "    <tr>\n",
       "      <th>6</th>\n",
       "      <td>I3GIC</td>\n",
       "      <td>F</td>\n",
       "      <td>20</td>\n",
       "    </tr>\n",
       "    <tr>\n",
       "      <th>7</th>\n",
       "      <td>I3GIM</td>\n",
       "      <td>F</td>\n",
       "      <td>26</td>\n",
       "    </tr>\n",
       "    <tr>\n",
       "      <th>8</th>\n",
       "      <td>I3GRU</td>\n",
       "      <td>F</td>\n",
       "      <td>56</td>\n",
       "    </tr>\n",
       "    <tr>\n",
       "      <th>9</th>\n",
       "      <td>I3GTI</td>\n",
       "      <td>F</td>\n",
       "      <td>28</td>\n",
       "    </tr>\n",
       "    <tr>\n",
       "      <th>10</th>\n",
       "      <td>I3GTR</td>\n",
       "      <td>F</td>\n",
       "      <td>23</td>\n",
       "    </tr>\n",
       "    <tr>\n",
       "      <th>11</th>\n",
       "      <td>I3AMS</td>\n",
       "      <td>M</td>\n",
       "      <td>66</td>\n",
       "    </tr>\n",
       "    <tr>\n",
       "      <th>12</th>\n",
       "      <td>I3GAR</td>\n",
       "      <td>M</td>\n",
       "      <td>60</td>\n",
       "    </tr>\n",
       "    <tr>\n",
       "      <th>13</th>\n",
       "      <td>I3GCA</td>\n",
       "      <td>M</td>\n",
       "      <td>58</td>\n",
       "    </tr>\n",
       "    <tr>\n",
       "      <th>14</th>\n",
       "      <td>I3GCI</td>\n",
       "      <td>M</td>\n",
       "      <td>200</td>\n",
       "    </tr>\n",
       "    <tr>\n",
       "      <th>15</th>\n",
       "      <td>I3GEE</td>\n",
       "      <td>M</td>\n",
       "      <td>140</td>\n",
       "    </tr>\n",
       "    <tr>\n",
       "      <th>16</th>\n",
       "      <td>I3GGG</td>\n",
       "      <td>M</td>\n",
       "      <td>59</td>\n",
       "    </tr>\n",
       "    <tr>\n",
       "      <th>17</th>\n",
       "      <td>I3GIC</td>\n",
       "      <td>M</td>\n",
       "      <td>60</td>\n",
       "    </tr>\n",
       "    <tr>\n",
       "      <th>18</th>\n",
       "      <td>I3GIM</td>\n",
       "      <td>M</td>\n",
       "      <td>139</td>\n",
       "    </tr>\n",
       "    <tr>\n",
       "      <th>19</th>\n",
       "      <td>I3GRU</td>\n",
       "      <td>M</td>\n",
       "      <td>66</td>\n",
       "    </tr>\n",
       "    <tr>\n",
       "      <th>20</th>\n",
       "      <td>I3GTI</td>\n",
       "      <td>M</td>\n",
       "      <td>55</td>\n",
       "    </tr>\n",
       "    <tr>\n",
       "      <th>21</th>\n",
       "      <td>I3GTR</td>\n",
       "      <td>M</td>\n",
       "      <td>44</td>\n",
       "    </tr>\n",
       "  </tbody>\n",
       "</table>\n",
       "</div>"
      ],
      "text/plain": [
       "   Department Gender  Count\n",
       "0       I3AMS      F     22\n",
       "1       I3GAR      F     37\n",
       "2       I3GCA      F    134\n",
       "3       I3GCI      F     19\n",
       "4       I3GEE      F     38\n",
       "5       I3GGG      F     35\n",
       "6       I3GIC      F     20\n",
       "7       I3GIM      F     26\n",
       "8       I3GRU      F     56\n",
       "9       I3GTI      F     28\n",
       "10      I3GTR      F     23\n",
       "11      I3AMS      M     66\n",
       "12      I3GAR      M     60\n",
       "13      I3GCA      M     58\n",
       "14      I3GCI      M    200\n",
       "15      I3GEE      M    140\n",
       "16      I3GGG      M     59\n",
       "17      I3GIC      M     60\n",
       "18      I3GIM      M    139\n",
       "19      I3GRU      M     66\n",
       "20      I3GTI      M     55\n",
       "21      I3GTR      M     44"
      ]
     },
     "execution_count": 26,
     "metadata": {},
     "output_type": "execute_result"
    }
   ],
   "source": [
    "df_reindex = df_pivoted.reset_index()\n",
    "df_melt = df_reindex.melt(id_vars=['Department'],value_vars=['F', 'M'],value_name='Count')\n",
    "df_melt"
   ]
  },
  {
   "cell_type": "code",
   "execution_count": 28,
   "metadata": {},
   "outputs": [
    {
     "data": {
      "text/plain": [
       "<AxesSubplot: title={'center': 'Department Vs Gender'}, xlabel='Department', ylabel='Count'>"
      ]
     },
     "execution_count": 28,
     "metadata": {},
     "output_type": "execute_result"
    },
    {
     "data": {
      "image/png": "[encoded data removed]",
      "text/plain": [
       "<Figure size 640x480 with 1 Axes>"
      ]
     },
     "metadata": {},
     "output_type": "display_data"
    }
   ],
   "source": [
    "df_pivoted.plot(kind='bar',title='Department Vs Gender',ylabel='Count')"
   ]
  },
  {
   "cell_type": "code",
   "execution_count": 29,
   "metadata": {},
   "outputs": [
    {
     "data": {
      "text/plain": [
       "<AxesSubplot: title={'center': 'Department Vs Gender'}, xlabel='Department', ylabel='Count'>"
      ]
     },
     "execution_count": 29,
     "metadata": {},
     "output_type": "execute_result"
    },
    {
     "data": {
      "image/png": "[encoded data removed]",
      "text/plain": [
       "<Figure size 640x480 with 1 Axes>"
      ]
     },
     "metadata": {},
     "output_type": "display_data"
    }
   ],
   "source": [
    "df_pivoted.sort_values(by=['F']).plot(kind='bar',title='Department Vs Gender',ylabel='Count')"
   ]
  },
  {
   "cell_type": "code",
   "execution_count": 30,
   "metadata": {},
   "outputs": [
    {
     "data": {
      "text/plain": [
       "<AxesSubplot: title={'center': 'Department Vs Gender'}, xlabel='Department', ylabel='Count'>"
      ]
     },
     "execution_count": 30,
     "metadata": {},
     "output_type": "execute_result"
    },
    {
     "data": {
      "image/png": "[encoded data removed]",
      "text/plain": [
       "<Figure size 640x480 with 1 Axes>"
      ]
     },
     "metadata": {},
     "output_type": "display_data"
    }
   ],
   "source": [
    "df_pivoted.sort_values(by=['M']).plot(kind='bar',title='Department Vs Gender',ylabel='Count')"
   ]
  },
  {
   "cell_type": "code",
   "execution_count": 31,
   "metadata": {},
   "outputs": [
    {
     "data": {
      "text/plain": [
       "<AxesSubplot: title={'center': 'Department Vs Female'}, xlabel='Department', ylabel='Count'>"
      ]
     },
     "execution_count": 31,
     "metadata": {},
     "output_type": "execute_result"
    },
    {
     "data": {
      "image/png": "[encoded data removed]",
      "text/plain": [
       "<Figure size 640x480 with 1 Axes>"
      ]
     },
     "metadata": {},
     "output_type": "display_data"
    }
   ],
   "source": [
    "df_pivoted.loc[:,'F'].plot(kind='bar',title='Department Vs Female',ylabel='Count')"
   ]
  },
  {
   "cell_type": "code",
   "execution_count": 32,
   "metadata": {},
   "outputs": [
    {
     "data": {
      "text/plain": [
       "<AxesSubplot: title={'center': 'Department Vs Male'}, xlabel='Department', ylabel='Count'>"
      ]
     },
     "execution_count": 32,
     "metadata": {},
     "output_type": "execute_result"
    },
    {
     "data": {
      "image/png": "[encoded data removed]",
      "text/plain": [
       "<Figure size 640x480 with 1 Axes>"
      ]
     },
     "metadata": {},
     "output_type": "display_data"
    }
   ],
   "source": [
    "df_pivoted.loc[:,'M'].plot(kind='bar',title='Department Vs Male',ylabel='Count',color='red')"
   ]
  },
  {
   "cell_type": "code",
   "execution_count": 33,
   "metadata": {},
   "outputs": [
    {
     "data": {
      "text/plain": [
       "<AxesSubplot: title={'center': 'Department Vs Female'}, xlabel='Department', ylabel='Count'>"
      ]
     },
     "execution_count": 33,
     "metadata": {},
     "output_type": "execute_result"
    },
    {
     "data": {
      "image/png": "[encoded data removed]",
      "text/plain": [
       "<Figure size 640x480 with 1 Axes>"
      ]
     },
     "metadata": {},
     "output_type": "display_data"
    }
   ],
   "source": [
    "df_pivoted.loc[:,'F'].sort_values(ascending=True).plot(kind='bar',title='Department Vs Female',ylabel='Count')"
   ]
  },
  {
   "cell_type": "code",
   "execution_count": 38,
   "metadata": {},
   "outputs": [
    {
     "data": {
      "text/plain": [
       "<AxesSubplot: title={'center': 'Department Vs Female'}, xlabel='Department', ylabel='Count'>"
      ]
     },
     "execution_count": 38,
     "metadata": {},
     "output_type": "execute_result"
    },
    {
     "data": {
      "image/png": "[encoded data removed]",
      "text/plain": [
       "<Figure size 640x480 with 1 Axes>"
      ]
     },
     "metadata": {},
     "output_type": "display_data"
    }
   ],
   "source": [
    "df_pivoted.loc[:,'M'].sort_values(ascending=True).plot(kind='bar',title='Department Vs Female',ylabel='Count',color='red')\n"
   ]
  },
  {
   "cell_type": "code",
   "execution_count": 43,
   "metadata": {},
   "outputs": [
    {
     "name": "stdout",
     "output_type": "stream",
     "text": [
      "Index(['Student ID', 'Student Name', 'Gender', 'Department', 'Email'], dtype='object')\n",
      "   Student ID   Student Name Surname       Name Gender Department  \\\n",
      "No                                                                  \n",
      "1   e20200861  BUT CHEABLENG     BUT  CHEABLENG      M      I3AMS   \n",
      "2   e20201690    BUTH KHEMRA    BUTH     KHEMRA      M      I3AMS   \n",
      "3   e20201131    CHEA MAKARA    CHEA     MAKARA      M      I3AMS   \n",
      "4   e20200702     CHEA ROTHA    CHEA      ROTHA      M      I3AMS   \n",
      "5   e20200934   CHHON CHAINA   CHHON     CHAINA      M      I3AMS   \n",
      "\n",
      "                   Email  \n",
      "No                        \n",
      "1   e20200861@itc.edu.kh  \n",
      "2   e20201690@itc.edu.kh  \n",
      "3   e20201131@itc.edu.kh  \n",
      "4   e20200702@itc.edu.kh  \n",
      "5   e20200934@itc.edu.kh  \n"
     ]
    }
   ],
   "source": [
    "surname = df.loc[:,'Student Name'].apply(lambda x:x.split(sep=\" \")[0])\n",
    "name = df.loc[:, 'Student Name'].apply(lambda x:x.split(sep=\" \")[1])\n",
    "print(df.columns)\n",
    "df_new = df.copy()\n",
    "df_new.insert(loc=2,column='Surname',value=surname)\n",
    "df_new.insert(loc=3,column='Name',value=name)\n",
    "print(df_new.head())"
   ]
  },
  {
   "cell_type": "code",
   "execution_count": 44,
   "metadata": {},
   "outputs": [
    {
     "name": "stdout",
     "output_type": "stream",
     "text": [
      "   Student ID Surname       Name Gender Department                 Email\n",
      "No                                                                      \n",
      "1   e20200861     BUT  CHEABLENG      M      I3AMS  e20200861@itc.edu.kh\n",
      "2   e20201690    BUTH     KHEMRA      M      I3AMS  e20201690@itc.edu.kh\n",
      "3   e20201131    CHEA     MAKARA      M      I3AMS  e20201131@itc.edu.kh\n",
      "4   e20200702    CHEA      ROTHA      M      I3AMS  e20200702@itc.edu.kh\n",
      "5   e20200934   CHHON     CHAINA      M      I3AMS  e20200934@itc.edu.kh\n"
     ]
    }
   ],
   "source": [
    "df_new = df_new.drop(columns='Student Name')\n",
    "print(df_new.head())"
   ]
  },
  {
   "cell_type": "code",
   "execution_count": 45,
   "metadata": {},
   "outputs": [
    {
     "name": "stdout",
     "output_type": "stream",
     "text": [
      "   Student ID Surname       Name Gender Department                 Email\n",
      "No                                                                      \n",
      "1   e20200861     BUT  CHEABLENG      M      I3AMS  e20200861@itc.edu.kh\n",
      "2   e20201690    BUTH     KHEMRA      M      I3AMS  e20201690@itc.edu.kh\n",
      "3   e20201131    CHEA     MAKARA      M      I3AMS  e20201131@itc.edu.kh\n",
      "4   e20200702    CHEA      ROTHA      M      I3AMS  e20200702@itc.edu.kh\n",
      "5   e20200934   CHHON     CHAINA      M      I3AMS  e20200934@itc.edu.kh\n"
     ]
    }
   ],
   "source": [
    "df_new.loc[:,'Department']==df_new.loc[:,'Department'].apply(lambda x:x[2:])\n",
    "print(df_new.head())"
   ]
  },
  {
   "cell_type": "code",
   "execution_count": 48,
   "metadata": {},
   "outputs": [
    {
     "name": "stdout",
     "output_type": "stream",
     "text": [
      "   Student ID Surname       Name Gender Department                 Email\n",
      "No                                                                      \n",
      "1   e20200861     BUT  CHEABLENG   Male      I3AMS  e20200861@itc.edu.kh\n",
      "2   e20201690    BUTH     KHEMRA   Male      I3AMS  e20201690@itc.edu.kh\n",
      "3   e20201131    CHEA     MAKARA   Male      I3AMS  e20201131@itc.edu.kh\n",
      "4   e20200702    CHEA      ROTHA   Male      I3AMS  e20200702@itc.edu.kh\n",
      "5   e20200934   CHHON     CHAINA   Male      I3AMS  e20200934@itc.edu.kh\n"
     ]
    }
   ],
   "source": [
    "def Gender(g:str)->str:\n",
    "  if g.upper()=='M':\n",
    "    gender = 'Male'\n",
    "  elif g.upper() == 'F':\n",
    "    gender = 'Female'\n",
    "  else:\n",
    "    gender = g\n",
    "  return gender\n",
    "\n",
    "df_new.loc[:,'Gender'] = df_new.loc[:,'Gender'].apply(func=Gender)\n",
    "print(df_new.head())"
   ]
  },
  {
   "cell_type": "code",
   "execution_count": 50,
   "metadata": {},
   "outputs": [],
   "source": [
    "with pd.ExcelWriter(path='i3student_clean.xlsx',mode='w') as writer:\n",
    "  df_new.to_excel(writer,index=False)"
   ]
  },
  {
   "cell_type": "code",
   "execution_count": null,
   "metadata": {},
   "outputs": [],
   "source": []
  }
 ],
 "metadata": {
  "kernelspec": {
   "display_name": "Python 3",
   "language": "python",
   "name": "python3"
  },
  "language_info": {
   "codemirror_mode": {
    "name": "ipython",
    "version": 3
   },
   "file_extension": ".py",
   "mimetype": "text/x-python",
   "name": "python",
   "nbconvert_exporter": "python",
   "pygments_lexer": "ipython3",
   "version": "3.9.7"
  },
  "orig_nbformat": 4
 },
 "nbformat": 4,
 "nbformat_minor": 2
}
